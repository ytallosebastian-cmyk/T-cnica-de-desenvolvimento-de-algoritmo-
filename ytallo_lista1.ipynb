{
  "nbformat": 4,
  "nbformat_minor": 0,
  "metadata": {
    "colab": {
      "provenance": [],
      "include_colab_link": true
    },
    "kernelspec": {
      "name": "python3",
      "display_name": "Python 3"
    },
    "language_info": {
      "name": "python"
    }
  },
  "cells": [
    {
      "cell_type": "markdown",
      "metadata": {
        "id": "view-in-github",
        "colab_type": "text"
      },
      "source": [
        "<a href=\"https://colab.research.google.com/github/ytallosebastian-cmyk/T-cnica-de-desenvolvimento-de-algoritmo-/blob/main/ytallo_lista1.ipynb\" target=\"_parent\"><img src=\"https://colab.research.google.com/assets/colab-badge.svg\" alt=\"Open In Colab\"/></a>"
      ]
    },
    {
      "cell_type": "markdown",
      "source": [
        "NOME: Ytallo sebastian\n",
        "\n",
        "1.   Item da lista\n",
        "2.   Item da lista\n",
        "\n",
        "\n",
        "\n",
        "CURSO: SISTEMAS DE INFORMAÇÃO\n",
        "\n",
        "![download.png](data:image/png;base64,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)"
      ],
      "metadata": {
        "id": "2fMlnpl6RD4i"
      }
    },
    {
      "cell_type": "code",
      "source": [
        "'''\n",
        "1.Escreva um programa que apresente na tela a frase: \"Meu primeiro programa!!!\"\n",
        "'''\n",
        "print(\"Meu primeiro programa!!!\")"
      ],
      "metadata": {
        "colab": {
          "base_uri": "https://localhost:8080/"
        },
        "id": "B8bnT8YOSDkb",
        "outputId": "7e62a61a-47d3-4bea-b285-b1d1b8253159",
        "collapsed": true
      },
      "execution_count": 2,
      "outputs": [
        {
          "output_type": "stream",
          "name": "stdout",
          "text": [
            "Meu primeiro programa!!!\n"
          ]
        }
      ]
    },
    {
      "cell_type": "code",
      "source": [
        "'''\n",
        "2.Escreva um programa que solicite ao usuário um número inteiro e ao final apresente na tela\n",
        "o número informado pelo usuário do programa\n",
        "'''\n",
        "print (\"Digite um número inteiro: \")\n",
        "numero = int(input())\n",
        "print (f\"O número inteiro informado pelo usuário foi: \", numero)"
      ],
      "metadata": {
        "colab": {
          "base_uri": "https://localhost:8080/"
        },
        "id": "DJyJ7cFfcRTx",
        "outputId": "2f82da8c-da3c-48cb-958e-441e7abe8bd9",
        "collapsed": true
      },
      "execution_count": null,
      "outputs": [
        {
          "output_type": "stream",
          "name": "stdout",
          "text": [
            "Digite um número inteiro: \n",
            "7\n",
            "O número inteiro informado pelo usuário foi:  7\n"
          ]
        }
      ]
    },
    {
      "cell_type": "code",
      "source": [
        "'''\n",
        "\n",
        "3.Escreva um programa que solicite ao usuário um número inteiro e ao final apresente na tela\n",
        "o número informado da seguinte forma: \"Foi informado o valor: X\"\n",
        "'''\n",
        "print (\"Digite um número inteiro: \")\n",
        "numero = int(input())\n",
        "print (f\"Foi informado o valor: \", numero)"
      ],
      "metadata": {
        "colab": {
          "base_uri": "https://localhost:8080/"
        },
        "id": "TOq6EE3VwJO7",
        "outputId": "d2884cda-44be-494b-afe4-c09b64d89fc2",
        "collapsed": true
      },
      "execution_count": null,
      "outputs": [
        {
          "output_type": "stream",
          "name": "stdout",
          "text": [
            "Digite um número inteiro: \n",
            "4\n",
            "Foi informado o valor:  4\n"
          ]
        }
      ]
    },
    {
      "cell_type": "code",
      "source": [
        "'''\n",
        "\n",
        "4.Escreva um programa que solicite ao usuário dois números inteiros e ao final apresente na\n",
        "tela os dois números informados da seguinte forma: \"Voce informou os numeros X e Y\"\n",
        "'''\n",
        "print (\"Digite o primeiro número inteiro: \")\n",
        "numero1 = int(input())\n",
        "print (\"Digite o segundo número inteiro: \")\n",
        "numero2 = int(input())\n",
        "print (f\"Voce informou os numeros {numero1} e {numero2}.\")"
      ],
      "metadata": {
        "colab": {
          "base_uri": "https://localhost:8080/"
        },
        "id": "vVYwXhXcxR4u",
        "outputId": "7eb7b0b2-939f-4495-b41f-37e7a4c2b6e2",
        "collapsed": true
      },
      "execution_count": null,
      "outputs": [
        {
          "output_type": "stream",
          "name": "stdout",
          "text": [
            "Digite o primeiro número inteiro: \n",
            "6\n",
            "Digite o segundo número inteiro: \n",
            "9\n",
            "Voce informou os numeros 6 e 9.\n"
          ]
        }
      ]
    },
    {
      "cell_type": "code",
      "source": [
        "'''\n",
        "\n",
        "5.Escreva um programa que solicite ao usuário um número real e ao final apresente na tela o\n",
        "número informado formatado com duas casas decimais da seguinte forma: \"Voce informou\n",
        "o numero X.YY\"\n",
        "\n",
        "'''\n",
        "print (\"Digite um número real: \")\n",
        "numero = float(input())\n",
        "print (f\"Voce informou o numero {numero:.2f}\")\n",
        "\n"
      ],
      "metadata": {
        "colab": {
          "base_uri": "https://localhost:8080/"
        },
        "id": "KjQeM2ejx2Yv",
        "outputId": "ec55f730-6231-40e4-d26c-34a33c456c02",
        "collapsed": true
      },
      "execution_count": null,
      "outputs": [
        {
          "output_type": "stream",
          "name": "stdout",
          "text": [
            "Digite um número real: \n",
            "6\n",
            "Voce informou o numero 6.00\n"
          ]
        }
      ]
    },
    {
      "cell_type": "code",
      "source": [
        "'''\n",
        "6.Escreva um programa que solicite ao usuário a temperatura em graus Celsius e ao final\n",
        "apresente a temperatura correspondente em graus Farenheit. F = Celsius * 1.8 + 32\n",
        "\n",
        "'''\n",
        "print(\"Informe a temperatura em Celcius: \")\n",
        "celcius = float(input())\n",
        "farenheit = celcius * 1.8 + 32\n",
        "print (f\"A temperatura em Farenheit é: {farenheit:.1f}\")\n",
        "\n"
      ],
      "metadata": {
        "colab": {
          "base_uri": "https://localhost:8080/"
        },
        "id": "fFAXKDHPyV1-",
        "outputId": "3f785e07-395c-4561-cb67-157e402a5e5f",
        "collapsed": true
      },
      "execution_count": null,
      "outputs": [
        {
          "output_type": "stream",
          "name": "stdout",
          "text": [
            "Informe a temperatura em Celcius: \n",
            "23\n",
            "A temperatura em Farenheit é: 73.4\n"
          ]
        }
      ]
    },
    {
      "cell_type": "code",
      "source": [
        "'''\n",
        "7.Escreva um programa que solicite ao usuário um número inteiro e um número real e ao final\n",
        "apresente na tela os dois números informados formatando com duas casas decimais\n",
        "somente o número real da seguinte forma: \"Voce informou os numeros N e X.YY\"\n",
        "\n",
        "'''\n",
        "print(\"Digite um número inteiro: \")\n",
        "numero_inteiro = int(input())\n",
        "print (\"Agora um número real: \")\n",
        "numero_real = float(input())\n",
        "print(f\"Você informou os números {numero_inteiro} e {numero_real:.2f}\")"
      ],
      "metadata": {
        "colab": {
          "base_uri": "https://localhost:8080/"
        },
        "id": "P8Zvx9oO0AXo",
        "outputId": "14e5b5e8-6b03-419a-a26c-c93033a8dc8c",
        "collapsed": true
      },
      "execution_count": null,
      "outputs": [
        {
          "output_type": "stream",
          "name": "stdout",
          "text": [
            "Digite um número inteiro: \n",
            "7\n",
            "Agora um número real: \n",
            "3.2\n",
            "Você informou os números 7 e 3.20\n"
          ]
        }
      ]
    },
    {
      "cell_type": "code",
      "source": [
        "'''\n",
        "8.Escreva um programa que solicite ao usuário a primeira letra de seu nome e ao final\n",
        "apresente na tela a letra informada pelo usuário da seguinte forma: \"Voce digitou w\"\n",
        "\n",
        "'''\n",
        "print(\"Digite a primeira letra do seu nome: \")\n",
        "letra = input()\n",
        "print(f\"Você digitou {letra}\")"
      ],
      "metadata": {
        "id": "BC4hq05q1nM5",
        "colab": {
          "base_uri": "https://localhost:8080/"
        },
        "outputId": "f4d3de07-dcf3-4a45-b850-b56fd36a7d87",
        "collapsed": true
      },
      "execution_count": null,
      "outputs": [
        {
          "output_type": "stream",
          "name": "stdout",
          "text": [
            "Digite a primeira letra do seu nome: \n",
            "A\n",
            "Você digitou A\n"
          ]
        }
      ]
    },
    {
      "cell_type": "code",
      "source": [
        "'''\n",
        "9.Escreva um programa que solicite ao usuário o nome de sua cor preferida e ao final\n",
        "apresente na tela a cor informada pelo usuário da seguinte forma: \"Voce gosta da cor AAA\"\n",
        "\n",
        "'''\n",
        "print (\"Digite o nome de sua cor preferida: \")\n",
        "cor = input()\n",
        "print(f\"Você gosta da cor {cor}\")\n"
      ],
      "metadata": {
        "colab": {
          "base_uri": "https://localhost:8080/"
        },
        "id": "_QmPaqgNk50r",
        "outputId": "0ad72e04-d88f-4170-c388-26075e0148e5",
        "collapsed": true
      },
      "execution_count": null,
      "outputs": [
        {
          "output_type": "stream",
          "name": "stdout",
          "text": [
            "Digite o nome de sua cor preferida: \n",
            "Azul\n",
            "Você gosta da cor Azul\n"
          ]
        }
      ]
    },
    {
      "cell_type": "code",
      "source": [
        "'''\n",
        "10.Escreva um programa que solicite ao usuário o nome de uma verdura e uma fruta de sua\n",
        "preferencia e ao final apresente na tela as informações digitadas pelo usuário da seguinte\n",
        "forma: \"Voce gosta de AAAAAAA e BBBBBBB\"\n",
        "\n",
        "'''\n",
        "print (\"Digite o nome de uma verdura: \")\n",
        "verdura = input()\n",
        "print (\"Digite o nome de uma fruta: \")\n",
        "fruta = input()\n",
        "print(f\"Você gosta de {verdura} e {fruta}\")\n"
      ],
      "metadata": {
        "colab": {
          "base_uri": "https://localhost:8080/"
        },
        "id": "2yW7m8DjmJmJ",
        "outputId": "a3a77154-5ea1-4eb5-e91d-c7499fcb4c5c",
        "collapsed": true
      },
      "execution_count": null,
      "outputs": [
        {
          "output_type": "stream",
          "name": "stdout",
          "text": [
            "Digite o nome de uma verdura: \n",
            "Chuchu\n",
            "Digite o nome de uma fruta: \n",
            "melancia\n",
            "Você gosta de Chuchu e melancia\n"
          ]
        }
      ]
    },
    {
      "cell_type": "code",
      "source": [
        "'''\n",
        "11.Elabore um algoritmo que solicite ao usuário um número real e ao final imprima na tela o\n",
        "numero informado e na linha de baixo o dobro deste número da seguinte forma:\n",
        "Numero -> X\n",
        "Dobro deste numero -> Y\n",
        "\n",
        "'''\n",
        "print (\"Digite um número real: \")\n",
        "numero = float(input())\n",
        "print (f\"Número -> {numero} \")\n",
        "dobro = numero * 2\n",
        "print (f\"Dobro deste número -> {dobro}\")\n"
      ],
      "metadata": {
        "colab": {
          "base_uri": "https://localhost:8080/"
        },
        "id": "qNt9Ud_xmwoA",
        "outputId": "a090a18c-8939-4211-823c-5e82846ed376",
        "collapsed": true
      },
      "execution_count": null,
      "outputs": [
        {
          "output_type": "stream",
          "name": "stdout",
          "text": [
            "Digite um número real: \n",
            "4.5\n",
            "Número -> 4.5 \n",
            "Dobro deste número -> 9.0\n"
          ]
        }
      ]
    },
    {
      "cell_type": "code",
      "source": [
        "'''\n",
        "12.Reescrever o programa anterior apresentando o quadrado e o cubo do número informado\n",
        "\n",
        "'''\n",
        "print (\"Digite um número real: \")\n",
        "numero = float(input())\n",
        "print (f\"Número -> {numero} \")\n",
        "quadrado = numero * numero\n",
        "cubo = numero * numero * numero\n",
        "print (f\"quadrado deste número -> {quadrado}\")\n",
        "print (f\"cubo deste número -> {cubo}\")\n"
      ],
      "metadata": {
        "colab": {
          "base_uri": "https://localhost:8080/"
        },
        "id": "qcIUs6V8oEVw",
        "outputId": "624b1ad0-2252-47b7-ba9a-d08cda6fc5fa",
        "collapsed": true
      },
      "execution_count": null,
      "outputs": [
        {
          "output_type": "stream",
          "name": "stdout",
          "text": [
            "Digite um número real: \n",
            "4\n",
            "Número -> 4.0 \n",
            "quadrado deste número -> 16.0\n",
            "cubo deste número -> 64.0\n"
          ]
        }
      ]
    },
    {
      "cell_type": "code",
      "source": [
        "'''\n",
        "13.Escreva um programa que solicite ao usuário dois números inteiros e ao final apresente\n",
        "na tela a soma dos dois números informados da seguinte forma: \"O numeros N e X\n",
        "somados correspondem a Y\"\n",
        "\n",
        "'''\n",
        "print (\"Digite o primeiro número inteiro: \")\n",
        "numero1 = int(input())\n",
        "print (\"Digite o segundo número inteiro: \")\n",
        "numero2 = int(input())\n",
        "soma = numero1 + numero2\n",
        "print (f\"O número {numero1} e {numero2} somados correspondem a {soma}\")"
      ],
      "metadata": {
        "colab": {
          "base_uri": "https://localhost:8080/"
        },
        "id": "KrKtPsO6pRd3",
        "outputId": "34b54d01-0bed-46fe-ea62-620445d4e62d",
        "collapsed": true
      },
      "execution_count": null,
      "outputs": [
        {
          "output_type": "stream",
          "name": "stdout",
          "text": [
            "Digite o primeiro número inteiro: \n",
            "80\n",
            "Digite o segundo número inteiro: \n",
            "120\n",
            "O número 80 e 120 somados correspondem a 200\n"
          ]
        }
      ]
    },
    {
      "cell_type": "code",
      "source": [
        "'''\n",
        "14.Escreva um programa que solicite ao usuário dois números reais e ao final apresente na\n",
        "tela o produto dos dois números informados da seguinte forma: \"O produto dos numeros N\n",
        "e X corresponde a Y\"\n",
        "\n",
        "'''\n",
        "print (\"Digite o primeiro número real: \")\n",
        "numero1 = float(input())\n",
        "print (\"Digite o segundo número real: \")\n",
        "numero2 = float(input())\n",
        "produto = numero1 * numero2\n",
        "print (f\"O produto dos números {numero1} e {numero2} corresponde a {produto}\")"
      ],
      "metadata": {
        "colab": {
          "base_uri": "https://localhost:8080/"
        },
        "id": "z-QEOZbypzSr",
        "outputId": "e4780d9d-09f6-49b7-8f85-8c2fc5eb2785",
        "collapsed": true
      },
      "execution_count": null,
      "outputs": [
        {
          "output_type": "stream",
          "name": "stdout",
          "text": [
            "Digite o primeiro número real: \n",
            "5.5\n",
            "Digite o segundo número real: \n",
            "5.5\n",
            "O produto dos números 5.5 e 5.5 corresponde a 30.25\n"
          ]
        }
      ]
    },
    {
      "cell_type": "code",
      "source": [
        "'''\n",
        "15.Refazer o programa 14 realizando as quatro operações aritméticas básicas\n",
        "\n",
        "'''\n",
        "print (\"Digite o primeiro número real: \")\n",
        "numero1 = float(input())\n",
        "print (\"Digite o segundo número real: \")\n",
        "numero2 = float(input())\n",
        "soma = numero1 + numero2\n",
        "diferença = numero1 - numero2\n",
        "produto = numero1 * numero2\n",
        "quociente = numero1 / numero2\n",
        "print (f\"A soma dos números {numero1} e {numero2} corresponde a {soma}\")\n",
        "print (f\"A diferença dos números {numero1} e {numero2} corresponde a {diferença}\")\n",
        "print (f\"O produto dos números {numero1} e {numero2} corresponde a {produto}\")\n",
        "print (f\"O quociente dos números {numero1} e {numero2} corresponde a {quociente}\")"
      ],
      "metadata": {
        "colab": {
          "base_uri": "https://localhost:8080/"
        },
        "id": "nwSH3cLCqv2w",
        "outputId": "0c9ce46d-687b-4b89-bc65-a1b2e6ec929c",
        "collapsed": true
      },
      "execution_count": null,
      "outputs": [
        {
          "output_type": "stream",
          "name": "stdout",
          "text": [
            "Digite o primeiro número real: \n",
            "5.0\n",
            "Digite o segundo número real: \n",
            "2.5\n",
            "A sima dos números 5.0 e 2.5 corresponde a 7.5\n",
            "A diferença dos números 5.0 e 2.5 corresponde a 2.5\n",
            "O produto dos números 5.0 e 2.5 corresponde a 12.5\n",
            "O quociente dos números 5.0 e 2.5 corresponde a 2.0\n"
          ]
        }
      ]
    },
    {
      "cell_type": "code",
      "source": [
        "'''\n",
        "16.Escreva um programa que solicite o valor fixo do salário de um vendedor, o total vendido\n",
        "no mês e o percentual de comissão do vendedor. Ao final apresentar o salário bruto.\n",
        "\n",
        "'''\n",
        "print (\"Digite o valor do seu salario fixo: \")\n",
        "salario_fixo = float(input())\n",
        "print (\"Digite o total vendido no mês: \")\n",
        "total_vendido = float(input())\n",
        "print (\"Digite o percentual de comissão: \")\n",
        "percentual = float(input())\n",
        "salario_bruto = salario_fixo + (total_vendido * percentual / 100)\n",
        "print (f\"O seu salário bruto é de: {salario_bruto}\")"
      ],
      "metadata": {
        "colab": {
          "base_uri": "https://localhost:8080/"
        },
        "id": "7CBijd3xBqeD",
        "outputId": "fea901fb-a512-43d5-c80b-8a4ef8ec13eb",
        "collapsed": true
      },
      "execution_count": null,
      "outputs": [
        {
          "output_type": "stream",
          "name": "stdout",
          "text": [
            "Digite o valor do seu salario fixo: \n",
            "1508\n",
            "Digite o total vendido no mês: \n",
            "20000\n",
            "Digite o percentual de comissão: \n",
            "0.5\n",
            "O seu salário bruto é de: 1608.0\n"
          ]
        }
      ]
    }
  ]
}