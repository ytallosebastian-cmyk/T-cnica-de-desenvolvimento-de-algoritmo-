{
  "nbformat": 4,
  "nbformat_minor": 0,
  "metadata": {
    "colab": {
      "provenance": [],
      "include_colab_link": true
    },
    "kernelspec": {
      "name": "python3",
      "display_name": "Python 3"
    },
    "language_info": {
      "name": "python"
    }
  },
  "cells": [
    {
      "cell_type": "markdown",
      "metadata": {
        "id": "view-in-github",
        "colab_type": "text"
      },
      "source": [
        "<a href=\"https://colab.research.google.com/github/ytallosebastian-cmyk/T-cnica-de-desenvolvimento-de-algoritmo-/blob/main/ytallo_lista_2_(1).ipynb\" target=\"_parent\"><img src=\"https://colab.research.google.com/assets/colab-badge.svg\" alt=\"Open In Colab\"/></a>"
      ]
    },
    {
      "cell_type": "code",
      "execution_count": null,
      "metadata": {
        "colab": {
          "base_uri": "https://localhost:8080/"
        },
        "id": "6PsqZY2lOQhU",
        "outputId": "5a94a371-2f40-4725-a8d7-0a5bb41c4c9c",
        "collapsed": true
      },
      "outputs": [
        {
          "output_type": "stream",
          "name": "stdout",
          "text": [
            "Digite um número real: \n",
            "12\n",
            "O número informado é maior que 10(dez)\n"
          ]
        }
      ],
      "source": [
        "\n",
        "\n",
        "'''\n",
        "1.Elabore um programa que solicite ao usuário um número real e ao final imprima na tela se o\n",
        "número informado é maior que 10 (dez)\n",
        "\n",
        "'''\n",
        "print(\"Digite um número real: \")\n",
        "numero= float(input())\n",
        "if numero > 10:\n",
        "  print(\"O número informado é maior que 10(dez)\")\n"
      ]
    },
    {
      "cell_type": "code",
      "source": [
        "'''\n",
        " 2.Escreva um programa que solicite ao usuário um número real e ao final imprima na tela se\n",
        "o número informado é maior ou igual a dez ou menor que 10 (dez)\n",
        "\n",
        "'''\n",
        "print(\"Digite um número real: \")\n",
        "numero=float(input())\n",
        "if numero >= 10:\n",
        "  print(\"o número informado é maior ou igual a 10(dez)\")\n",
        "else:\n",
        "  print(\"O número informado é menor que 10\")\n",
        "\n",
        "\n"
      ],
      "metadata": {
        "colab": {
          "base_uri": "https://localhost:8080/"
        },
        "id": "Niit9rXQRhvn",
        "outputId": "0bc0bda9-8bdc-4af2-aef8-f87a32c64c85",
        "collapsed": true
      },
      "execution_count": null,
      "outputs": [
        {
          "output_type": "stream",
          "name": "stdout",
          "text": [
            "Digite um número real: \n",
            "9\n",
            "O número informado é menor que 10\n"
          ]
        }
      ]
    },
    {
      "cell_type": "code",
      "source": [
        "'''\n",
        "\n",
        " 3.Elabore um algoritmo que solicite ao usuário um número real e ao final imprima na tela se o\n",
        "número informado é maior que dez, se é menor que dez, ou se é igual a dez\n",
        "\n",
        "'''\n",
        "print(\"Digite um número real\")\n",
        "numero= float(input())\n",
        "if numero > 10:\n",
        "  print(\"O número informado é maior que dez(dez)\")\n",
        "elif numero < 10:\n",
        "    print(\"O número informado é menor que 10(dez)\")\n",
        "elif numero == 10:\n",
        "      print(\"O número informado é igual a 10(dez)\")"
      ],
      "metadata": {
        "id": "z81_4fDwVh6f",
        "colab": {
          "base_uri": "https://localhost:8080/"
        },
        "outputId": "3ab5e588-96a8-41bf-b54f-4f06083c446f",
        "collapsed": true
      },
      "execution_count": null,
      "outputs": [
        {
          "output_type": "stream",
          "name": "stdout",
          "text": [
            "Digite um número real\n",
            "11\n",
            "O número informado é maior que dez(dez)\n"
          ]
        }
      ]
    },
    {
      "cell_type": "code",
      "source": [
        "'''\n",
        "\n",
        " 4.Elabore um algoritmo que solicite ao usuário um número real e ao final imprima na tela se o\n",
        "número informado é positivo, negativo ou nulo (zero)\n",
        "\n",
        "'''\n",
        "print(\"Digite um número real: \")\n",
        "numero = float(input())\n",
        "if numero >= 1:\n",
        "  print(\"O número informado é positivo \")\n",
        "elif numero == 0:\n",
        "  print(\"o número informado é nulo\")\n",
        "else:\n",
        "  print (\"O número informado é negativo\")\n",
        "\n"
      ],
      "metadata": {
        "colab": {
          "base_uri": "https://localhost:8080/"
        },
        "id": "MIcLNEbidJIv",
        "outputId": "2b38aa07-ec34-418f-d2d2-d9861fcd3346",
        "collapsed": true
      },
      "execution_count": null,
      "outputs": [
        {
          "output_type": "stream",
          "name": "stdout",
          "text": [
            "Digite um número real: \n",
            "-1\n",
            "O número informado é negativo\n"
          ]
        }
      ]
    },
    {
      "cell_type": "code",
      "source": [
        "'''\n",
        "\n",
        "5.Elabore um algoritmo que leia um número inteiro e imprima uma das mensagens: é múltiplo\n",
        "de 3, ou, não é múltiplo de 3\n",
        "\n",
        "'''\n",
        "print(\"Digite um número inteiro\")\n",
        "numero = int(input())\n",
        "if numero % 3 == 0 :\n",
        "  print (\"Múltiplo de 3\")\n",
        "else:\n",
        "    print(\"Não é múltiplo de 3\")\n",
        "\n",
        "\n",
        "\n"
      ],
      "metadata": {
        "colab": {
          "base_uri": "https://localhost:8080/"
        },
        "id": "hy2Hxj4Qe-Uq",
        "outputId": "9f48b1b4-7489-4780-cbef-ddd4befd0c6a",
        "collapsed": true
      },
      "execution_count": null,
      "outputs": [
        {
          "output_type": "stream",
          "name": "stdout",
          "text": [
            "Digite um número inteiro\n"
          ]
        }
      ]
    },
    {
      "cell_type": "code",
      "source": [
        "'''\n",
        "\n",
        " 6.Refazer o exercício anterior, solicitando antes o múltiplo a ser testado\n",
        "\n",
        "'''\n",
        "print(\"Digite um número inteiro\")\n",
        "numero = int(input())\n",
        "print(\"Digite um número a ser testado\")\n",
        "numero_test = int(input())\n",
        "if numero % numero_test == 0:\n",
        "  print(f\"O número {numero} é múltiplo de {numero_test}\")\n",
        "else :\n",
        "  print(f\"O número {numero} não é múltiplo de {numero_test}\")\n"
      ],
      "metadata": {
        "colab": {
          "base_uri": "https://localhost:8080/"
        },
        "id": "wAuJSxgmh_H8",
        "outputId": "7d3179d0-66c3-4f24-dc76-9d488beb93df",
        "collapsed": true
      },
      "execution_count": null,
      "outputs": [
        {
          "output_type": "stream",
          "name": "stdout",
          "text": [
            "Digite um número inteiro\n",
            "67\n",
            "Digite um número a ser testado\n",
            "89\n",
            "O número 67 não é múltiplo de 89\n"
          ]
        }
      ]
    },
    {
      "cell_type": "code",
      "source": [
        "'''\n",
        "\n",
        "7.Desenvolva um algoritmo que classifique um número inteiro fornecido pelo usuário como\n",
        "par ou ímpar\n",
        "\n",
        "'''\n",
        "print(\"Digite um número inteiro\")\n",
        "numero = int(input())\n",
        "if numero % 2 == 0:\n",
        "  print(\"O número informado é par\")\n",
        "else:\n",
        "  print(\"O número informado é ímpar\")\n",
        "\n"
      ],
      "metadata": {
        "colab": {
          "base_uri": "https://localhost:8080/"
        },
        "id": "JO80weud5qBF",
        "outputId": "ecc6cc1e-81e7-4184-944d-a6f8fff64907",
        "collapsed": true
      },
      "execution_count": null,
      "outputs": [
        {
          "output_type": "stream",
          "name": "stdout",
          "text": [
            "Digite um número inteiro\n",
            "20\n",
            "O número informado é par\n"
          ]
        }
      ]
    },
    {
      "cell_type": "code",
      "source": [
        "'''\n",
        "8.Elabore um algoritmo que leia um número, e se ele for maior do que 20, imprimir a metade\n",
        "desse número, caso contrário, imprimir o dobro do número\n",
        "\n",
        "'''\n",
        "print (\"Digite um número inteiro:\")\n",
        "numero = int(input())\n",
        "dobro= numero * 2\n",
        "metade= numero / 2\n",
        "if numero >= 20:\n",
        "  print(\"A metade do número informado é:\", metade)\n",
        "else:\n",
        "  print (\"O dobro do número informado é:\", dobro)"
      ],
      "metadata": {
        "colab": {
          "base_uri": "https://localhost:8080/"
        },
        "id": "dhqT7hWLAJ5u",
        "outputId": "07b51609-7363-4cfd-f55e-4c500a391824",
        "collapsed": true
      },
      "execution_count": null,
      "outputs": [
        {
          "output_type": "stream",
          "name": "stdout",
          "text": [
            "Digite um número inteiro:\n",
            "18\n",
            "O dobro do número informado é: 36\n"
          ]
        }
      ]
    },
    {
      "cell_type": "code",
      "source": [
        "'''\n",
        "\n",
        " 9.Elabore um algoritmo que leia dois números inteiros e realize a adição; caso o resultado\n",
        "seja maior que 10, imprima o quadrado do resultado, caso contrário, imprima a metade dele\n",
        "\n",
        "'''\n",
        "print(\"Digite um número inteiro: \")\n",
        "num1 = int(input())\n",
        "print(\"Digite mais um: \")\n",
        "num2 = int(input())\n",
        "soma = num1 + num2\n",
        "quadrado = soma * soma\n",
        "metade = soma / 2\n",
        "if soma > 10:\n",
        "  print(\"O quadrado do número informado é:\", quadrado)\n",
        "else:\n",
        "  print( \"A metade do número informado é:\", metade)"
      ],
      "metadata": {
        "colab": {
          "base_uri": "https://localhost:8080/"
        },
        "id": "GQbtlmbGCOsM",
        "outputId": "a809a5f4-228d-418b-b81b-52a970fa7718",
        "collapsed": true
      },
      "execution_count": null,
      "outputs": [
        {
          "output_type": "stream",
          "name": "stdout",
          "text": [
            "Digite um número inteiro: \n",
            "7\n",
            "Digite mais um: \n",
            "9\n",
            "O quadrado do número informado é: 256\n"
          ]
        }
      ]
    },
    {
      "cell_type": "code",
      "source": [
        "'''\n",
        "10.O sistema de avaliação de determinada disciplina é composto por três provas. A primeira\n",
        "prova tem peso 2, a segunda tem peso 3 e a terceira tem peso 5. Considerando que a\n",
        "média para aprovação é 6.0, faça um algoritmo para calcular a média final de um aluno\n",
        "desta disciplina e dizer se o aluno foi aprovado ou não\n",
        "\n",
        "'''\n",
        "print(\"Digite a primeira nota: \")\n",
        "n1 = float(input())\n",
        "print(\"Digite a segunda nota: \")\n",
        "n2 = float(input())\n",
        "print(\"Agora a terceira nota: \")\n",
        "n3 = float(input())\n",
        "p1 = 2\n",
        "p2 = 3\n",
        "p3 = 5\n",
        "pesos = p1 + p2 + p3\n",
        "mp = ((n1 * p1) + (n2 * p2) + (n3 * p3)) / pesos\n",
        "print(mp)\n",
        "if mp >= 6.0:\n",
        "  print(\"Parabéns, você foi aprovado!\")\n",
        "else:\n",
        "  print(\"Reprovado!\")"
      ],
      "metadata": {
        "colab": {
          "base_uri": "https://localhost:8080/"
        },
        "id": "0qfIfhiqEP94",
        "outputId": "23569f21-eb5f-493c-955d-2a645854c457",
        "collapsed": true
      },
      "execution_count": null,
      "outputs": [
        {
          "output_type": "stream",
          "name": "stdout",
          "text": [
            "Digite a primeira nota: \n",
            "6\n",
            "Digite a segunda nota: \n",
            "8\n",
            "Agora a terceira nota: \n",
            "9\n",
            "8.1\n",
            "Parabéns, você foi aprovado!\n"
          ]
        }
      ]
    },
    {
      "cell_type": "code",
      "source": [
        "'''\n",
        "11.Elabore um algoritmo que leia o nome e o peso de duas pessoas e imprima o nome da\n",
        "pessoa mais pesada\n",
        "\n",
        "'''\n",
        "print(\"Digite o nome de uma pessoa\")\n",
        "nome_pessoa1 = str(input())\n",
        "print(\"Digite o pesso dessa pessoa \")\n",
        "peso_pessoa1 = float(input())\n",
        "print(\"Digite mais um nome\")\n",
        "nome_pessoa2 = str(input())\n",
        "print(\"Agora o peso dessa segunda pessoa\")\n",
        "peso_pessoa2 = float(input())\n",
        "print(\"A pessoa de maior peso é: \")\n",
        "if peso_pessoa1 > peso_pessoa2:\n",
        "  print(nome_pessoa1)\n",
        "else:\n",
        "  print(nome_pessoa2)"
      ],
      "metadata": {
        "colab": {
          "base_uri": "https://localhost:8080/"
        },
        "id": "doReLsaoLrx1",
        "outputId": "f055ecdb-b132-491d-b871-af82bc753f5a",
        "collapsed": true
      },
      "execution_count": null,
      "outputs": [
        {
          "output_type": "stream",
          "name": "stdout",
          "text": [
            "Digite o nome de uma pessoa\n",
            "Adriano\n",
            "Digite o pesso dessa pessoa \n",
            "57\n",
            "Digite mais um nome\n",
            "Antonia\n",
            "Agora o peso dessa segunda pessoa\n",
            "60\n",
            "A pessoa de maior peso é: \n",
            "Antonia\n"
          ]
        }
      ]
    },
    {
      "cell_type": "code",
      "source": [
        "'''\n",
        " 12.Elabore um algoritmo que indique se um número digitado está compreendido entre 20 e\n",
        "90, ou não\n",
        "\n",
        "'''\n",
        "print(\"Digite um número: \")\n",
        "numero = int(input())\n",
        "if numero >= 20 and numero <= 90:\n",
        "  print(\"O número digitado está compreendido entre 20 e 90.\")\n",
        "else:\n",
        "  print(\"O número digitado não está compreendido entre 20 e 90.\")"
      ],
      "metadata": {
        "colab": {
          "base_uri": "https://localhost:8080/"
        },
        "id": "xfk2SmViQFiv",
        "outputId": "e15707a1-6159-4536-fac7-fd562eb02d42",
        "collapsed": true
      },
      "execution_count": null,
      "outputs": [
        {
          "output_type": "stream",
          "name": "stdout",
          "text": [
            "Digite um número: \n",
            "91\n",
            "O número digitado não está compreendido entre 20 e 90.\n"
          ]
        }
      ]
    },
    {
      "cell_type": "code",
      "source": [
        "'''\n",
        "13.Elabore um algoritmo que leia dois números e imprima qual é maior, qual é menor, ou se\n",
        "são iguais\n",
        "\n",
        "'''\n",
        "print(\"Digite um número: \")\n",
        "n1 = int(input())\n",
        "print(\"Digite mais um: \")\n",
        "n2 = int(input())\n",
        "if n1 == n2:\n",
        "  print(\"Os dois números são iguais\")\n",
        "elif n1 > n2:\n",
        "  print(\"O maior número é:\" , n1)\n",
        "else:\n",
        "  print(\"O número maior é:\" , n2)"
      ],
      "metadata": {
        "colab": {
          "base_uri": "https://localhost:8080/"
        },
        "id": "BH29fwysR7Cu",
        "outputId": "cc70383b-4419-4bf7-8cd3-393ec7fa38cc",
        "collapsed": true
      },
      "execution_count": null,
      "outputs": [
        {
          "output_type": "stream",
          "name": "stdout",
          "text": [
            "Digite um número: \n",
            "55\n",
            "Digite mais um: \n",
            "55\n",
            "Os dois números são iguais\n"
          ]
        }
      ]
    },
    {
      "cell_type": "code",
      "source": [
        "\n",
        "'''\n",
        " 14.Escreva um programa em linguagem C que solicite ao usuário a média para aprovação\n",
        "em um curso e em seguida solicite ao usuário o nome, sexo e as 03 notas do aluno e ao\n",
        "final imprima a frase: \"O aluno XXXXX foi aprovado com media YY\" considerando o gênero\n",
        "do(a) aluno(a) e se foi aprovado(a) ou reprovado(a)\n",
        "\n",
        "'''\n",
        "print(\"Digite a média necessaria para passar nesse curso: \")\n",
        "media_necessaria = float(input())\n",
        "print(\"Nome: \")\n",
        "nome = str(input())\n",
        "print(\"Sexo: \")\n",
        "sexo = str(input())\n",
        "print(\"Agora digite as suas 03 notas: \")\n",
        "print(\"Nota 01: \")\n",
        "n1 = float(input())\n",
        "print(\"Nota 02: \")\n",
        "n2 = float(input())\n",
        "print(\"Nota 03: \")\n",
        "n3 = float(input())\n",
        "media = (n1 + n2 + n3)/3\n",
        "if sexo.lower() == \"masculino\" and media >= 6.0:\n",
        "  print(f\"O aluno {nome} foi aprovado com média {media:.1f} \")\n",
        "elif sexo.lower() == \"masculino\" and media <6.0:\n",
        " print(f\"O aluno {nome} foi reprovado com média {media:.1f}\")\n",
        "elif sexo.lower() == \"feminino\" and media >= 6.0:\n",
        "  print(f\"A aluna {nome} foi aprovada com média {media:.1f} \")\n",
        "elif sexo.lower() == \"feminino\" and media < 6.0:\n",
        "  print(f\"A aluna {nome} foi reprovada com média {media:.1f}\")"
      ],
      "metadata": {
        "colab": {
          "base_uri": "https://localhost:8080/"
        },
        "outputId": "9c31105d-3a87-47a9-f270-5b44ce6ab901",
        "id": "RS0_F3KLb-xn",
        "collapsed": true
      },
      "execution_count": null,
      "outputs": [
        {
          "output_type": "stream",
          "name": "stdout",
          "text": [
            "Digite a média necessaria para passar nesse curso: \n",
            "6.0\n",
            "Nome: \n",
            "ytallo sebastian\n",
            "Sexo: \n",
            "masculino\n",
            "Agora digite as suas 03 notas: \n",
            "Nota 01: \n",
            "7.0\n",
            "Nota 02: \n",
            "7.0\n",
            "Nota 03: \n",
            "7.0\n",
            "O aluno ytallo sebastian foi aprovado com média 7.0 \n"
          ]
        }
      ]
    }
  ]
}