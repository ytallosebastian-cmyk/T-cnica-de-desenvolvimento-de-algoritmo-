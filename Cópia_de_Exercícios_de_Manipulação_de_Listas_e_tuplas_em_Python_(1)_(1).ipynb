{
  "nbformat": 4,
  "nbformat_minor": 0,
  "metadata": {
    "colab": {
      "provenance": [],
      "include_colab_link": true
    },
    "kernelspec": {
      "name": "python3",
      "display_name": "Python 3"
    },
    "language_info": {
      "name": "python"
    }
  },
  "cells": [
    {
      "cell_type": "markdown",
      "metadata": {
        "id": "view-in-github",
        "colab_type": "text"
      },
      "source": [
        "<a href=\"https://colab.research.google.com/github/ytallosebastian-cmyk/T-cnica-de-desenvolvimento-de-algoritmo-/blob/main/C%C3%B3pia_de_Exerc%C3%ADcios_de_Manipula%C3%A7%C3%A3o_de_Listas_e_tuplas_em_Python_(1)_(1).ipynb\" target=\"_parent\"><img src=\"https://colab.research.google.com/assets/colab-badge.svg\" alt=\"Open In Colab\"/></a>"
      ]
    },
    {
      "cell_type": "code",
      "execution_count": null,
      "metadata": {
        "id": "wIHoO2mFrMYq",
        "colab": {
          "base_uri": "https://localhost:8080/"
        },
        "outputId": "0f3e421c-6289-4b8b-db3a-5ae1a2547686"
      },
      "outputs": [
        {
          "output_type": "stream",
          "name": "stdout",
          "text": [
            "Digite o 1º número inteiro: 4\n",
            "Digite o 2º número inteiro: 7\n",
            "Digite o 3º número inteiro: 8\n",
            "Digite o 4º número inteiro: 9\n",
            "Digite o 5º número inteiro: 0\n",
            "Você digitou: [4, 7, 8, 9, 0]\n"
          ]
        }
      ],
      "source": [
        "# inicializa uma lista vazia\n",
        "numeros = []\n",
        "\n",
        "# pede ao usuário para digitar 5 números inteiros\n",
        "for i in range(5):\n",
        "    valor = int(input(f\"Digite o {i+1}º número inteiro: \"))\n",
        "    numeros.append(valor)\n",
        "\n",
        "# imprime a lista resultante\n",
        "print(\"Você digitou:\", numeros)\n"
      ]
    },
    {
      "cell_type": "code",
      "source": [
        "# solicita a lista de números ao usuário\n",
        "numeros = []\n",
        "n = int(input(\"Quantos números você vai digitar? \"))\n",
        "for i in range(n):\n",
        "    valor = int(input(f\"Digite o {i+1}º número inteiro: \"))\n",
        "    numeros.append(valor)\n",
        "\n",
        "# aplica módulo (valor absoluto) a cada elemento\n",
        "# usando list-comprehension\n",
        "modulos = [ abs(x) for x in numeros ]  # usa abs() função builtin em Python :contentReference[oaicite:0]{index=0}\n",
        "\n",
        "print(\"Lista original:\", numeros)\n",
        "print(\"Lista com valores absolutos:\", modulos)\n"
      ],
      "metadata": {
        "colab": {
          "base_uri": "https://localhost:8080/"
        },
        "id": "n9GUxxYVrXOW",
        "outputId": "ea86610c-1573-4bed-a802-c8173c9f6bb9"
      },
      "execution_count": null,
      "outputs": [
        {
          "output_type": "stream",
          "name": "stdout",
          "text": [
            "Quantos números você vai digitar? 3\n",
            "Digite o 1º número inteiro: 5\n",
            "Digite o 2º número inteiro: 8\n",
            "Digite o 3º número inteiro: 9\n",
            "Lista original: [5, 8, 9]\n",
            "Lista com valores absolutos: [5, 8, 9]\n"
          ]
        }
      ]
    },
    {
      "cell_type": "code",
      "source": [
        "# solicita a lista\n",
        "numeros = []\n",
        "n = int(input(\"Quantos números você vai digitar? \"))\n",
        "for i in range(n):\n",
        "    valor = int(input(f\"Digite o {i+1}º número inteiro: \"))\n",
        "    numeros.append(valor)\n",
        "\n",
        "# filtra para deixar apenas os não-negativos (>= 0)\n",
        "positivos = [ x for x in numeros if x >= 0 ]\n",
        "\n",
        "print(\"Lista original:\", numeros)\n",
        "print(\"Lista sem valores negativos:\", positivos)\n"
      ],
      "metadata": {
        "colab": {
          "base_uri": "https://localhost:8080/"
        },
        "id": "nW2-nXQRtLtz",
        "outputId": "787b9c34-84a2-4bf3-f094-c979471b05c5"
      },
      "execution_count": null,
      "outputs": [
        {
          "output_type": "stream",
          "name": "stdout",
          "text": [
            "Quantos números você vai digitar? 2\n",
            "Digite o 1º número inteiro: 3\n",
            "Digite o 2º número inteiro: 4\n",
            "Lista original: [3, 4]\n",
            "Lista sem valores negativos: [3, 4]\n"
          ]
        }
      ]
    },
    {
      "cell_type": "code",
      "source": [
        "notas = []\n",
        "while True:\n",
        "    valor = float(input(\"Digite uma nota (ou número negativo para parar): \"))\n",
        "    if valor < 0:\n",
        "        break\n",
        "    notas.append(valor)\n",
        "\n",
        "if len(notas) == 0:\n",
        "    print(\"Nenhuma nota válida foi digitada.\")\n",
        "else:\n",
        "    media = sum(notas) / len(notas)\n",
        "    print(\"Notas:\", notas)\n",
        "    print(f\"Média das notas: {media:.2f}\")\n"
      ],
      "metadata": {
        "colab": {
          "base_uri": "https://localhost:8080/"
        },
        "id": "KBkfumX6tx-J",
        "outputId": "fb951f14-dea3-4052-8db3-255f90e1d9e9"
      },
      "execution_count": null,
      "outputs": [
        {
          "output_type": "stream",
          "name": "stdout",
          "text": [
            "Digite uma nota (ou número negativo para parar): 5\n",
            "Digite uma nota (ou número negativo para parar): 2\n",
            "Digite uma nota (ou número negativo para parar): 2\n",
            "Digite uma nota (ou número negativo para parar): 2\n",
            "Digite uma nota (ou número negativo para parar): 2\n",
            "Digite uma nota (ou número negativo para parar): -3\n",
            "Notas: [5.0, 2.0, 2.0, 2.0, 2.0]\n",
            "Média das notas: 2.60\n"
          ]
        }
      ]
    },
    {
      "cell_type": "code",
      "source": [
        "pares = []\n",
        "impares = []\n",
        "total = 0\n",
        "\n",
        "while True:\n",
        "    valor = int(input(\"Digite um número positivo (ou negativo para parar): \"))\n",
        "    if valor < 0:\n",
        "        break\n",
        "    total += 1\n",
        "    if valor % 2 == 0:\n",
        "        pares.append(valor)\n",
        "    else:\n",
        "        impares.append(valor)\n",
        "\n",
        "if total == 0:\n",
        "    print(\"Nenhum número válido foi digitado.\")\n",
        "else:\n",
        "    pct_pares = len(pares) * 100 / total\n",
        "    pct_impares = len(impares) * 100 / total\n",
        "    print(\"Pares:\", pares)\n",
        "    print(\"Ímpares:\", impares)\n",
        "    print(f\"Porcentagem de pares: {pct_pares:.2f}%\")\n",
        "    print(f\"Porcentagem de ímpares: {pct_impares:.2f}%\")\n"
      ],
      "metadata": {
        "colab": {
          "base_uri": "https://localhost:8080/"
        },
        "id": "7oq10Lfvt8Rh",
        "outputId": "d5b47b32-5245-4950-ad35-0adde4a935d2"
      },
      "execution_count": null,
      "outputs": [
        {
          "output_type": "stream",
          "name": "stdout",
          "text": [
            "Digite um número positivo (ou negativo para parar): 10\n",
            "Digite um número positivo (ou negativo para parar): -4\n",
            "Pares: [10]\n",
            "Ímpares: []\n",
            "Porcentagem de pares: 100.00%\n",
            "Porcentagem de ímpares: 0.00%\n"
          ]
        }
      ]
    },
    {
      "cell_type": "code",
      "source": [
        "valores = set()  # set para evitar repetição\n",
        "\n",
        "while True:\n",
        "    valor = int(input(\"Digite um número positivo (ou negativo para parar): \"))\n",
        "    if valor < 0:\n",
        "        break\n",
        "    valores.add(valor)\n",
        "\n",
        "lista_valores = list(valores)\n",
        "print(\"Valores únicos digitados:\", lista_valores)\n"
      ],
      "metadata": {
        "colab": {
          "base_uri": "https://localhost:8080/"
        },
        "id": "wlUFM9r4uKRr",
        "outputId": "033f9f03-cf8a-4b47-ad19-dd37ab02f580"
      },
      "execution_count": null,
      "outputs": [
        {
          "output_type": "stream",
          "name": "stdout",
          "text": [
            "Digite um número positivo (ou negativo para parar): 2\n",
            "Digite um número positivo (ou negativo para parar): -4\n",
            "Valores únicos digitados: [2]\n"
          ]
        }
      ]
    },
    {
      "cell_type": "code",
      "source": [
        "pessoas = []\n",
        "for i in range(5):\n",
        "    altura = float(input(f\"Digite a altura (em metros) da pessoa {i+1}: \"))\n",
        "    peso   = float(input(f\"Digite o peso (em kg) da pessoa {i+1}: \"))\n",
        "    pessoas.append((altura, peso))\n",
        "\n",
        "# agora verificamos se há repetição de (altura,peso)\n",
        "repetido = False\n",
        "for i in range(len(pessoas)):\n",
        "    for j in range(i+1, len(pessoas)):\n",
        "        if pessoas[i] == pessoas[j]:\n",
        "            repetido = True\n",
        "            print(f\"Pessoas {i+1} e {j+1} têm mesma altura e mesmo peso: {pessoas[i]}\")\n",
        "            break\n",
        "    if repetido:\n",
        "        break\n",
        "\n",
        "if not repetido:\n",
        "    print(\"Nenhuma dupla com mesma altura e mesmo peso foi encontrada.\")\n",
        "333\n"
      ],
      "metadata": {
        "colab": {
          "base_uri": "https://localhost:8080/"
        },
        "id": "YRH9Jf8PuSCF",
        "outputId": "3fde5725-69bc-420b-faf4-09b0fceaf549"
      },
      "execution_count": null,
      "outputs": [
        {
          "output_type": "stream",
          "name": "stdout",
          "text": [
            "Digite a altura (em metros) da pessoa 1: 1\n",
            "Digite o peso (em kg) da pessoa 1: 89\n",
            "Digite a altura (em metros) da pessoa 2: 1.20\n",
            "Digite o peso (em kg) da pessoa 2: 76\n",
            "Digite a altura (em metros) da pessoa 3: 1.45\n",
            "Digite o peso (em kg) da pessoa 3: 87\n",
            "Digite a altura (em metros) da pessoa 4: 2.2\n",
            "Digite o peso (em kg) da pessoa 4: 76\n",
            "Digite a altura (em metros) da pessoa 5: 1.76\n",
            "Digite o peso (em kg) da pessoa 5: 76\n",
            "Nenhuma dupla com mesma altura e mesmo peso foi encontrada.\n"
          ]
        },
        {
          "output_type": "execute_result",
          "data": {
            "text/plain": [
              "333"
            ]
          },
          "metadata": {},
          "execution_count": 20
        }
      ]
    },
    {
      "cell_type": "code",
      "source": [
        "mais_velha_nome = None\n",
        "mais_velha_idade = -1\n",
        "\n",
        "while True:\n",
        "    nome = input(\"Digite o nome da pessoa (ou deixe em branco para parar): \").strip()\n",
        "    if nome == \"\":\n",
        "        break\n",
        "    idade = int(input(\"Digite a idade de %s: \" % nome))\n",
        "    if idade > mais_velha_idade:\n",
        "        mais_velha_idade = idade\n",
        "        mais_velha_nome = nome\n",
        "\n",
        "if mais_velha_nome is None:\n",
        "    print(\"Nenhuma pessoa foi informada.\")\n",
        "else:\n",
        "    print(f\"A pessoa mais velha é {mais_velha_nome}, com {mais_velha_idade} anos.\")\n"
      ],
      "metadata": {
        "colab": {
          "base_uri": "https://localhost:8080/"
        },
        "id": "HNlk1B9duycy",
        "outputId": "4e13fc42-315b-4c9b-fabc-04a2c90412a1"
      },
      "execution_count": null,
      "outputs": [
        {
          "output_type": "stream",
          "name": "stdout",
          "text": [
            "Digite o nome da pessoa (ou deixe em branco para parar): messi\n",
            "Digite a idade de messi: 89\n",
            "Digite o nome da pessoa (ou deixe em branco para parar): otario\n",
            "Digite a idade de otario: 9\n",
            "Digite o nome da pessoa (ou deixe em branco para parar): \n",
            "A pessoa mais velha é messi, com 89 anos.\n"
          ]
        }
      ]
    },
    {
      "cell_type": "code",
      "source": [
        "alunos = {\n",
        "    \"Alice\": 8.5,\n",
        "    \"Bruno\": 7.8,\n",
        "    \"Carla\": 9.2,\n",
        "    \"Diego\": 6.9,\n",
        "    \"Eva\": 8.0,\n",
        "    \"Fernando\": 7.5,\n",
        "    \"Gabriela\": 9.0,\n",
        "    \"Henrique\": 6.7,\n",
        "    \"Isabela\": 8.3,\n",
        "    \"João\": 7.2\n",
        "}\n",
        "\n",
        "# Quantos alunos\n",
        "qtde = len(alunos)\n",
        "print(\"Quantidade de alunos:\", qtde)\n",
        "\n",
        "# Alguém tirou nota zero?\n",
        "tirou_zero = any(nota == 0 for nota in alunos.values())\n",
        "print(\"Alguém tirou nota zero?\", \"Sim\" if tirou_zero else \"Não\")\n",
        "\n",
        "# Menor nota\n",
        "menor = min(alunos.values())\n",
        "print(\"Menor nota:\", menor)\n",
        "\n",
        "# Maior nota\n",
        "maior = max(alunos.values())\n",
        "print(\"Maior nota:\", maior)\n"
      ],
      "metadata": {
        "colab": {
          "base_uri": "https://localhost:8080/"
        },
        "id": "2V6e7uqqvJn7",
        "outputId": "b8bc2cd4-9840-40eb-e678-48c41fabb323"
      },
      "execution_count": null,
      "outputs": [
        {
          "output_type": "stream",
          "name": "stdout",
          "text": [
            "Quantidade de alunos: 10\n",
            "Alguém tirou nota zero? Não\n",
            "Menor nota: 6.7\n",
            "Maior nota: 9.2\n"
          ]
        }
      ]
    },
    {
      "cell_type": "code",
      "source": [
        "# animes e episódios\n",
        "animes = {\n",
        "    \"Naruto\": 220,\n",
        "    \"Jujutsu Kaisen\": 47,\n",
        "    \"Dragon Ball Z\": 291,\n",
        "    \"Death Note\": 37,\n",
        "    \"Fullmetal Alchemist\": 64,\n",
        "    \"Evangelion\": 26,\n",
        "    \"Berserk\": 25,\n",
        "    \"Code Geass\": 50,\n",
        "    \"Akame ga Kill!\": 24,\n",
        "    \"Elfen Lied\": 13\n",
        "}\n",
        "\n",
        "try:\n",
        "    # total de episódios\n",
        "    ep_total = sum(animes.values())\n",
        "    if ep_total == 0:\n",
        "        raise ValueError(\"Total de episódios é zero — não dá para calcular percentuais.\")\n",
        "\n",
        "    print(f\"Total de episódios: {ep_total}\\n\")\n",
        "\n",
        "    # criar um novo dicionário com percentuais (não modificamos o original durante a iteração)\n",
        "    percentuais = {nome: (eps / ep_total) * 100 for nome, eps in animes.items()}\n",
        "\n",
        "    # ordenar por percentual decrescente\n",
        "    ordenados = sorted(percentuais.items(), key=lambda x: x[1], reverse=True)\n",
        "\n",
        "    # imprimir formatado\n",
        "    print(\"Percentual de cada anime (ordem decrescente):\")\n",
        "    for nome, pct in ordenados:\n",
        "        print(f\"{nome}: {pct:.2f}%\")\n",
        "\n",
        "except Exception as e:\n",
        "    # mensagem de erro amigável\n",
        "    print(\"Ocorreu um erro ao executar o programa:\")\n",
        "    print(type(e).__name__ + \":\", e)\n"
      ],
      "metadata": {
        "colab": {
          "base_uri": "https://localhost:8080/"
        },
        "id": "tZG_oERHvgiT",
        "outputId": "02de2c16-a4be-4950-877f-c7a5978755aa"
      },
      "execution_count": null,
      "outputs": [
        {
          "output_type": "stream",
          "name": "stdout",
          "text": [
            "Total de episódios: 797\n",
            "\n",
            "Percentual de cada anime (ordem decrescente):\n",
            "Dragon Ball Z: 36.51%\n",
            "Naruto: 27.60%\n",
            "Fullmetal Alchemist: 8.03%\n",
            "Code Geass: 6.27%\n",
            "Jujutsu Kaisen: 5.90%\n",
            "Death Note: 4.64%\n",
            "Evangelion: 3.26%\n",
            "Berserk: 3.14%\n",
            "Akame ga Kill!: 3.01%\n",
            "Elfen Lied: 1.63%\n"
          ]
        }
      ]
    },
    {
      "cell_type": "code",
      "source": [
        "bandas = {\n",
        "    \"Grena Gasosa\": [\n",
        "        {\"álbum\": \"Gente Ruim Só Manda Lembrança Pra Quem Não Presta\", \"ano\": 2019},\n",
        "        {\"álbum\": \"Se Deus É 10, Satanás É 666\", \"ano\": 1999},\n",
        "        {\"álbum\": \"Welcome to the Macumba\", \"ano\": 1993}\n",
        "    ],\n",
        "    \"Rogério Skylab\": [\n",
        "        {\"álbum\": \"Nas Portas do Cu\", \"ano\": 2023},\n",
        "        {\"álbum\": \"Crítica da Faculdade do Cu\", \"ano\": 2021},\n",
        "        {\"álbum\": \"Cosmos\", \"ano\": 2019}\n",
        "    ],\n",
        "    \"Garotos Podres\": [\n",
        "        {\"álbum\": \"Canções para Ninar\", \"ano\": 2003},\n",
        "        {\"álbum\": \"Com a Corda Toda\", \"ano\": 1997},\n",
        "        {\"álbum\": \"Rock de Subúrbio\", \"ano\": 1995}\n",
        "    ],\n",
        "    \"Massacration\": [\n",
        "        {\"álbum\": \"Live Metal Espancation\", \"ano\": 2017},\n",
        "        {\"álbum\": \"Good Blood Headbanguers\", \"ano\": 2009},\n",
        "        {\"álbum\": \"Gates of Metal Fried Chicken of Death\", \"ano\": 2005}\n",
        "    ],\n",
        "    \"Raimundos\": [\n",
        "        {\"álbum\": \"Cantigas de Roda\", \"ano\": 2014},\n",
        "        {\"álbum\": \"Roda Viva\", \"ano\": 2006},\n",
        "        {\"álbum\": \"Éramos 4\", \"ano\": 2001}\n",
        "    ]\n",
        "}\n",
        "\n",
        "# exemplo simples: imprimir banda + álbuns\n",
        "for banda, albuns in bandas.items():\n",
        "    print(banda + \":\")\n",
        "    for entrada in albuns:\n",
        "        print(f\"  {entrada['álbum']} ({entrada['ano']})\")\n",
        "# álbum mais antigo\n",
        "mais_antigo = None\n",
        "for banda, albuns in bandas.items():\n",
        "    for entrada in albuns:\n",
        "        if mais_antigo is None or entrada[\"ano\"] < mais_antigo[\"ano\"]:\n",
        "            mais_antigo = {\"banda\": banda, \"álbum\": entrada[\"álbum\"], \"ano\": entrada[\"ano\"]}\n",
        "\n",
        "print(f\"Álbum mais antigo: {mais_antigo['álbum']} da banda {mais_antigo['banda']} ({mais_antigo['ano']})\")\n",
        "\n",
        "# banda com maior intervalo entre álbuns (diferença entre maior ano e menor ano de seu catálogo)\n",
        "maior_intervalo = None\n",
        "for banda, albuns in bandas.items():\n",
        "    anos = [entrada[\"ano\"] for entrada in albuns]\n",
        "    intervalo = max(anos) - min(anos)\n",
        "    if maior_intervalo is None or intervalo > maior_intervalo[\"intervalo\"]:\n",
        "        maior_intervalo = {\"banda\": banda, \"intervalo\": intervalo}\n",
        "\n",
        "print(f\"Banda com maior intervalo entre álbuns: {maior_intervalo['banda']} (intervalo de {maior_intervalo['intervalo']} anos)\")\n",
        "\n",
        "# todos os álbuns do mais novo para o mais antigo, com nome da banda\n",
        "lista_todos = []\n",
        "for banda, albuns in bandas.items():\n",
        "    for entrada in albuns:\n",
        "        lista_todos.append({\"banda\": banda, \"álbum\": entrada[\"álbum\"], \"ano\": entrada[\"ano\"]})\n",
        "\n",
        "lista_todos.sort(key=lambda e: e[\"ano\"], reverse=True)\n",
        "print(\"Álbuns do mais novo para o mais antigo:\")\n",
        "for e in lista_todos:\n",
        "    print(f\"{e['ano']}: {e['álbum']} — {e['banda']}\")\n"
      ],
      "metadata": {
        "colab": {
          "base_uri": "https://localhost:8080/"
        },
        "id": "OivOgExewTuh",
        "outputId": "0013c0e3-6861-42ec-9974-454863bb89c7"
      },
      "execution_count": null,
      "outputs": [
        {
          "output_type": "stream",
          "name": "stdout",
          "text": [
            "Grena Gasosa:\n",
            "  Gente Ruim Só Manda Lembrança Pra Quem Não Presta (2019)\n",
            "  Se Deus É 10, Satanás É 666 (1999)\n",
            "  Welcome to the Macumba (1993)\n",
            "Rogério Skylab:\n",
            "  Nas Portas do Cu (2023)\n",
            "  Crítica da Faculdade do Cu (2021)\n",
            "  Cosmos (2019)\n",
            "Garotos Podres:\n",
            "  Canções para Ninar (2003)\n",
            "  Com a Corda Toda (1997)\n",
            "  Rock de Subúrbio (1995)\n",
            "Massacration:\n",
            "  Live Metal Espancation (2017)\n",
            "  Good Blood Headbanguers (2009)\n",
            "  Gates of Metal Fried Chicken of Death (2005)\n",
            "Raimundos:\n",
            "  Cantigas de Roda (2014)\n",
            "  Roda Viva (2006)\n",
            "  Éramos 4 (2001)\n",
            "Álbum mais antigo: Welcome to the Macumba da banda Grena Gasosa (1993)\n",
            "Banda com maior intervalo entre álbuns: Grena Gasosa (intervalo de 26 anos)\n",
            "Álbuns do mais novo para o mais antigo:\n",
            "2023: Nas Portas do Cu — Rogério Skylab\n",
            "2021: Crítica da Faculdade do Cu — Rogério Skylab\n",
            "2019: Gente Ruim Só Manda Lembrança Pra Quem Não Presta — Grena Gasosa\n",
            "2019: Cosmos — Rogério Skylab\n",
            "2017: Live Metal Espancation — Massacration\n",
            "2014: Cantigas de Roda — Raimundos\n",
            "2009: Good Blood Headbanguers — Massacration\n",
            "2006: Roda Viva — Raimundos\n",
            "2005: Gates of Metal Fried Chicken of Death — Massacration\n",
            "2003: Canções para Ninar — Garotos Podres\n",
            "2001: Éramos 4 — Raimundos\n",
            "1999: Se Deus É 10, Satanás É 666 — Grena Gasosa\n",
            "1997: Com a Corda Toda — Garotos Podres\n",
            "1995: Rock de Subúrbio — Garotos Podres\n",
            "1993: Welcome to the Macumba — Grena Gasosa\n"
          ]
        }
      ]
    }
  ]
}